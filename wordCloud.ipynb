{
 "cells": [
  {
   "cell_type": "markdown",
   "id": "656ec83e",
   "metadata": {},
   "source": [
    "# Reviews analysis on European Luxury Hotels"
   ]
  },
  {
   "cell_type": "markdown",
   "id": "3174504d",
   "metadata": {},
   "source": [
    "# 0. Background and Introduction"
   ]
  },
  {
   "cell_type": "markdown",
   "id": "68e9c4bc",
   "metadata": {},
   "source": [
    "Whether hotel managers like it or not, guest reviews are becoming an essential factor influencing people's booking/purchase. Think about our past experiences. When we are looking for vacation accommodation on Booking.com, we may unknowingly scroll down the screen to view reviews.\n",
    "\n",
    "As reviews become more and more important, hotel owners need to start using them. The analysis of reviews can help hotels understand what customers think about themselves and understand whether the hotel meets customer expectations. This analysis can also contribute to building up user portraits based on the reviews, which is essential for formulating marketing strategies based on the role of the customer. In addition, hotels can also compare themselves with similar hotels in the same region to measure their competitiveness and better locate themselves.\n",
    "\n",
    "The review on Booking.com has a significant feature. Reviewers should give positive and negative feelings separately when writing, as shown in the figure. For potential customers, this can help them better decide which hotel to choose. For owners, this can better help estimate customers' overall rating of the hotel through review text.\n",
    "\n",
    "fig.1 - Reviewing process on Booking.com\n",
    "\n",
    "This report will focus on luxury hotels in six famous European tourism nations and analyze their reviews on Booking.com. The analysis will mainly involve and try to answer these questions: What do customers care about hotels in different countries? Are customers' reviews of each hotel positive or negative? How to predict the guest's rating based on hotels' basic information, the reviewers' information, and their text evaluations? How to classify and locate hotels based on their ratings and reviews. How to cluster consumers and roughly describe their portraits?"
   ]
  },
  {
   "cell_type": "markdown",
   "id": "6067d65e",
   "metadata": {},
   "source": [
    "## 1. Data loading and wrangling"
   ]
  },
  {
   "cell_type": "code",
   "execution_count": 535,
   "id": "be15204e",
   "metadata": {},
   "outputs": [],
   "source": [
    "from matplotlib import pyplot as plt\n",
    "import numpy as np\n",
    "import pandas as pd\n",
    "import geopandas as gpd\n",
    "import os\n",
    "import geoviews as gv\n",
    "import geoviews.tile_sources as gvts\n",
    "import hvplot.pandas\n",
    "import holoviews as hv\n",
    "import seaborn as sns\n",
    "import altair as alt\n",
    "\n",
    "np.random.seed(42)\n",
    "\n",
    "palette5 = [\"#61a262\",\"#1a7328\",\"#f2b4ae\",\"#f26a4b\",\"#f25d50\"]\n",
    "palette4 = [\"#61a262\",\"#1a7328\",\"#f2b4ae\",\"#f25d50\"]\n",
    "palette2 = [\"#61a262\",\"#f26a4b\"]\n"
   ]
  },
  {
   "cell_type": "markdown",
   "id": "71e5fc47",
   "metadata": {},
   "source": [
    "### Load hospital reviews data with API "
   ]
  },
  {
   "cell_type": "markdown",
   "id": "44f09762",
   "metadata": {},
   "source": [
    "Set up environment variable for kaggle API."
   ]
  },
  {
   "cell_type": "code",
   "execution_count": 536,
   "id": "14f37655",
   "metadata": {},
   "outputs": [],
   "source": [
    "# set Kaggle key to environment variable\n",
    "os.environ[\"KAGGLE_USERNAME\"] = \"lanxiao1120\"\n",
    "os.environ[\"KAGGLE_KEY\"] = \"dc6f594f7f5b866e3aec880f88948cb8\"\n",
    "\n",
    "# !!users need to install kaggle package first\n",
    "from kaggle.api.kaggle_api_extended import KaggleApi\n",
    "api = KaggleApi()\n",
    "api.authenticate()"
   ]
  },
  {
   "cell_type": "markdown",
   "id": "68cf9938",
   "metadata": {},
   "source": [
    "Load data from Kaggle with API."
   ]
  },
  {
   "cell_type": "code",
   "execution_count": 537,
   "id": "890fa97c",
   "metadata": {},
   "outputs": [],
   "source": [
    "#Signature: dataset_download_file(dataset, file_name, path=None, force=False, quiet=True)\n",
    "# download file via API\n",
    "api.dataset_download_file('jiashenliu/515k-hotel-reviews-data-in-europe','Hotel_Reviews.csv', path='data')\n",
    "# read it\n",
    "hotel_raw = pd.read_csv('data/Hotel_Reviews.csv.zip')\n",
    "\n",
    "#hotel_raw.head()"
   ]
  },
  {
   "cell_type": "markdown",
   "id": "b4f8a8d4",
   "metadata": {},
   "source": [
    "### Wrangle data and join with country Boundaries"
   ]
  },
  {
   "cell_type": "markdown",
   "id": "fbbaa9dd",
   "metadata": {},
   "source": [
    "Transform data into geo data frame, transform date columns into date type, and trim data into those of 2016."
   ]
  },
  {
   "cell_type": "code",
   "execution_count": 538,
   "id": "b8ec9dbf",
   "metadata": {
    "scrolled": true
   },
   "outputs": [
    {
     "data": {
      "text/html": [
       "<div>\n",
       "<style scoped>\n",
       "    .dataframe tbody tr th:only-of-type {\n",
       "        vertical-align: middle;\n",
       "    }\n",
       "\n",
       "    .dataframe tbody tr th {\n",
       "        vertical-align: top;\n",
       "    }\n",
       "\n",
       "    .dataframe thead th {\n",
       "        text-align: right;\n",
       "    }\n",
       "</style>\n",
       "<table border=\"1\" class=\"dataframe\">\n",
       "  <thead>\n",
       "    <tr style=\"text-align: right;\">\n",
       "      <th></th>\n",
       "      <th>Hotel_Address</th>\n",
       "      <th>Additional_Number_of_Scoring</th>\n",
       "      <th>Review_Date</th>\n",
       "      <th>Average_Score</th>\n",
       "      <th>Hotel_Name</th>\n",
       "      <th>Reviewer_Nationality</th>\n",
       "      <th>Negative_Review</th>\n",
       "      <th>Review_Total_Negative_Word_Counts</th>\n",
       "      <th>Total_Number_of_Reviews</th>\n",
       "      <th>Positive_Review</th>\n",
       "      <th>Review_Total_Positive_Word_Counts</th>\n",
       "      <th>Total_Number_of_Reviews_Reviewer_Has_Given</th>\n",
       "      <th>Reviewer_Score</th>\n",
       "      <th>Tags</th>\n",
       "      <th>days_since_review</th>\n",
       "      <th>lat</th>\n",
       "      <th>lng</th>\n",
       "      <th>geometry</th>\n",
       "    </tr>\n",
       "  </thead>\n",
       "  <tbody>\n",
       "    <tr>\n",
       "      <th>66</th>\n",
       "      <td>s Gravesandestraat 55 Oost 1092 AA Amsterdam ...</td>\n",
       "      <td>194</td>\n",
       "      <td>2016-12-29</td>\n",
       "      <td>7.7</td>\n",
       "      <td>Hotel Arena</td>\n",
       "      <td>United Kingdom</td>\n",
       "      <td>Asked for more coffee and sugars only got giv...</td>\n",
       "      <td>40</td>\n",
       "      <td>1403</td>\n",
       "      <td>Nice open room Bed plenty of room Bath room c...</td>\n",
       "      <td>28</td>\n",
       "      <td>7</td>\n",
       "      <td>9.2</td>\n",
       "      <td>[' Leisure trip ', ' Couple ', ' Large King Ro...</td>\n",
       "      <td>217 day</td>\n",
       "      <td>52.360576</td>\n",
       "      <td>4.915968</td>\n",
       "      <td>POINT (547243.088 6865586.634)</td>\n",
       "    </tr>\n",
       "    <tr>\n",
       "      <th>67</th>\n",
       "      <td>s Gravesandestraat 55 Oost 1092 AA Amsterdam ...</td>\n",
       "      <td>194</td>\n",
       "      <td>2016-12-28</td>\n",
       "      <td>7.7</td>\n",
       "      <td>Hotel Arena</td>\n",
       "      <td>South Africa</td>\n",
       "      <td>Room was not cleaned correctly Wine Champagne...</td>\n",
       "      <td>30</td>\n",
       "      <td>1403</td>\n",
       "      <td>To begin with we were upgraded which made my ...</td>\n",
       "      <td>92</td>\n",
       "      <td>6</td>\n",
       "      <td>7.5</td>\n",
       "      <td>[' Leisure trip ', ' Couple ', ' Duplex Double...</td>\n",
       "      <td>218 day</td>\n",
       "      <td>52.360576</td>\n",
       "      <td>4.915968</td>\n",
       "      <td>POINT (547243.088 6865586.634)</td>\n",
       "    </tr>\n",
       "  </tbody>\n",
       "</table>\n",
       "</div>"
      ],
      "text/plain": [
       "                                        Hotel_Address  \\\n",
       "66   s Gravesandestraat 55 Oost 1092 AA Amsterdam ...   \n",
       "67   s Gravesandestraat 55 Oost 1092 AA Amsterdam ...   \n",
       "\n",
       "    Additional_Number_of_Scoring Review_Date  Average_Score   Hotel_Name  \\\n",
       "66                           194  2016-12-29            7.7  Hotel Arena   \n",
       "67                           194  2016-12-28            7.7  Hotel Arena   \n",
       "\n",
       "   Reviewer_Nationality                                    Negative_Review  \\\n",
       "66      United Kingdom    Asked for more coffee and sugars only got giv...   \n",
       "67        South Africa    Room was not cleaned correctly Wine Champagne...   \n",
       "\n",
       "    Review_Total_Negative_Word_Counts  Total_Number_of_Reviews  \\\n",
       "66                                 40                     1403   \n",
       "67                                 30                     1403   \n",
       "\n",
       "                                      Positive_Review  \\\n",
       "66   Nice open room Bed plenty of room Bath room c...   \n",
       "67   To begin with we were upgraded which made my ...   \n",
       "\n",
       "    Review_Total_Positive_Word_Counts  \\\n",
       "66                                 28   \n",
       "67                                 92   \n",
       "\n",
       "    Total_Number_of_Reviews_Reviewer_Has_Given  Reviewer_Score  \\\n",
       "66                                           7             9.2   \n",
       "67                                           6             7.5   \n",
       "\n",
       "                                                 Tags days_since_review  \\\n",
       "66  [' Leisure trip ', ' Couple ', ' Large King Ro...           217 day   \n",
       "67  [' Leisure trip ', ' Couple ', ' Duplex Double...           218 day   \n",
       "\n",
       "          lat       lng                        geometry  \n",
       "66  52.360576  4.915968  POINT (547243.088 6865586.634)  \n",
       "67  52.360576  4.915968  POINT (547243.088 6865586.634)  "
      ]
     },
     "execution_count": 538,
     "metadata": {},
     "output_type": "execute_result"
    }
   ],
   "source": [
    "# set up coord\n",
    "hotel = hotel_raw.copy()\n",
    "hotel['geometry'] = gpd.points_from_xy(hotel['lng'], hotel['lat'])\n",
    "\n",
    "# to geo df\n",
    "hotel = gpd.GeoDataFrame(hotel, geometry=\"geometry\", crs=\"EPSG:4326\")\n",
    "\n",
    "# convert crs to 3857\n",
    "hotel = hotel.to_crs(epsg=3857)\n",
    "\n",
    "# transform to date\n",
    "hotel['Review_Date'] = pd.to_datetime(hotel['Review_Date'] ,format='%m/%d/%Y')\n",
    "\n",
    "# trim into 2016\n",
    "hotel = hotel.loc[hotel['Review_Date'] >= '2016-01-01']\n",
    "hotel = hotel.loc[hotel['Review_Date'] < '2017-01-01']\n",
    "\n",
    "hotel.head(n=2)"
   ]
  },
  {
   "cell_type": "code",
   "execution_count": 539,
   "id": "d0b04e50",
   "metadata": {},
   "outputs": [],
   "source": [
    "%%opts WMTS [width=800, height=800, xaxis=None, yaxis=None]\n",
    "\n",
    "hotel_2017 = hotel.loc[hotel['Review_Date']>'2017-01-01']\n",
    "\n",
    "#hotel_2017.hvplot(geo=True, tiles=True, crs=3857)"
   ]
  },
  {
   "cell_type": "markdown",
   "id": "479ab125",
   "metadata": {},
   "source": [
    "Load data of European countries, and spatial join with hotel data."
   ]
  },
  {
   "cell_type": "code",
   "execution_count": 540,
   "id": "09775159",
   "metadata": {},
   "outputs": [],
   "source": [
    "# get country data \n",
    "url = 'https://gisco-services.ec.europa.eu/distribution/v2/countries/geojson/CNTR_RG_01M_2020_3857.geojson'\n",
    "country = gpd.read_file(url)\n",
    "#select col\n",
    "country = country[['NAME_ENGL','geometry']]\n",
    "# spatial join\n",
    "hotel_joined = gpd.sjoin(hotel, country, op='within', how='left').drop(['index_right'], axis=1)\n"
   ]
  },
  {
   "cell_type": "markdown",
   "id": "bf298856",
   "metadata": {},
   "source": [
    "Change the name of the column for country."
   ]
  },
  {
   "cell_type": "code",
   "execution_count": 541,
   "id": "2b0d7b81",
   "metadata": {
    "scrolled": true
   },
   "outputs": [
    {
     "data": {
      "text/html": [
       "<div>\n",
       "<style scoped>\n",
       "    .dataframe tbody tr th:only-of-type {\n",
       "        vertical-align: middle;\n",
       "    }\n",
       "\n",
       "    .dataframe tbody tr th {\n",
       "        vertical-align: top;\n",
       "    }\n",
       "\n",
       "    .dataframe thead th {\n",
       "        text-align: right;\n",
       "    }\n",
       "</style>\n",
       "<table border=\"1\" class=\"dataframe\">\n",
       "  <thead>\n",
       "    <tr style=\"text-align: right;\">\n",
       "      <th></th>\n",
       "      <th>Hotel_Address</th>\n",
       "      <th>Additional_Number_of_Scoring</th>\n",
       "      <th>Review_Date</th>\n",
       "      <th>Average_Score</th>\n",
       "      <th>Hotel_Name</th>\n",
       "      <th>Reviewer_Nationality</th>\n",
       "      <th>Negative_Review</th>\n",
       "      <th>Review_Total_Negative_Word_Counts</th>\n",
       "      <th>Total_Number_of_Reviews</th>\n",
       "      <th>Positive_Review</th>\n",
       "      <th>Review_Total_Positive_Word_Counts</th>\n",
       "      <th>Total_Number_of_Reviews_Reviewer_Has_Given</th>\n",
       "      <th>Reviewer_Score</th>\n",
       "      <th>Tags</th>\n",
       "      <th>days_since_review</th>\n",
       "      <th>lat</th>\n",
       "      <th>lng</th>\n",
       "      <th>geometry</th>\n",
       "      <th>Country</th>\n",
       "    </tr>\n",
       "  </thead>\n",
       "  <tbody>\n",
       "    <tr>\n",
       "      <th>66</th>\n",
       "      <td>s Gravesandestraat 55 Oost 1092 AA Amsterdam ...</td>\n",
       "      <td>194</td>\n",
       "      <td>2016-12-29</td>\n",
       "      <td>7.7</td>\n",
       "      <td>Hotel Arena</td>\n",
       "      <td>United Kingdom</td>\n",
       "      <td>Asked for more coffee and sugars only got giv...</td>\n",
       "      <td>40</td>\n",
       "      <td>1403</td>\n",
       "      <td>Nice open room Bed plenty of room Bath room c...</td>\n",
       "      <td>28</td>\n",
       "      <td>7</td>\n",
       "      <td>9.2</td>\n",
       "      <td>[' Leisure trip ', ' Couple ', ' Large King Ro...</td>\n",
       "      <td>217 day</td>\n",
       "      <td>52.360576</td>\n",
       "      <td>4.915968</td>\n",
       "      <td>POINT (547243.088 6865586.634)</td>\n",
       "      <td>Netherlands</td>\n",
       "    </tr>\n",
       "    <tr>\n",
       "      <th>67</th>\n",
       "      <td>s Gravesandestraat 55 Oost 1092 AA Amsterdam ...</td>\n",
       "      <td>194</td>\n",
       "      <td>2016-12-28</td>\n",
       "      <td>7.7</td>\n",
       "      <td>Hotel Arena</td>\n",
       "      <td>South Africa</td>\n",
       "      <td>Room was not cleaned correctly Wine Champagne...</td>\n",
       "      <td>30</td>\n",
       "      <td>1403</td>\n",
       "      <td>To begin with we were upgraded which made my ...</td>\n",
       "      <td>92</td>\n",
       "      <td>6</td>\n",
       "      <td>7.5</td>\n",
       "      <td>[' Leisure trip ', ' Couple ', ' Duplex Double...</td>\n",
       "      <td>218 day</td>\n",
       "      <td>52.360576</td>\n",
       "      <td>4.915968</td>\n",
       "      <td>POINT (547243.088 6865586.634)</td>\n",
       "      <td>Netherlands</td>\n",
       "    </tr>\n",
       "  </tbody>\n",
       "</table>\n",
       "</div>"
      ],
      "text/plain": [
       "                                        Hotel_Address  \\\n",
       "66   s Gravesandestraat 55 Oost 1092 AA Amsterdam ...   \n",
       "67   s Gravesandestraat 55 Oost 1092 AA Amsterdam ...   \n",
       "\n",
       "    Additional_Number_of_Scoring Review_Date  Average_Score   Hotel_Name  \\\n",
       "66                           194  2016-12-29            7.7  Hotel Arena   \n",
       "67                           194  2016-12-28            7.7  Hotel Arena   \n",
       "\n",
       "   Reviewer_Nationality                                    Negative_Review  \\\n",
       "66      United Kingdom    Asked for more coffee and sugars only got giv...   \n",
       "67        South Africa    Room was not cleaned correctly Wine Champagne...   \n",
       "\n",
       "    Review_Total_Negative_Word_Counts  Total_Number_of_Reviews  \\\n",
       "66                                 40                     1403   \n",
       "67                                 30                     1403   \n",
       "\n",
       "                                      Positive_Review  \\\n",
       "66   Nice open room Bed plenty of room Bath room c...   \n",
       "67   To begin with we were upgraded which made my ...   \n",
       "\n",
       "    Review_Total_Positive_Word_Counts  \\\n",
       "66                                 28   \n",
       "67                                 92   \n",
       "\n",
       "    Total_Number_of_Reviews_Reviewer_Has_Given  Reviewer_Score  \\\n",
       "66                                           7             9.2   \n",
       "67                                           6             7.5   \n",
       "\n",
       "                                                 Tags days_since_review  \\\n",
       "66  [' Leisure trip ', ' Couple ', ' Large King Ro...           217 day   \n",
       "67  [' Leisure trip ', ' Couple ', ' Duplex Double...           218 day   \n",
       "\n",
       "          lat       lng                        geometry      Country  \n",
       "66  52.360576  4.915968  POINT (547243.088 6865586.634)  Netherlands  \n",
       "67  52.360576  4.915968  POINT (547243.088 6865586.634)  Netherlands  "
      ]
     },
     "execution_count": 541,
     "metadata": {},
     "output_type": "execute_result"
    }
   ],
   "source": [
    "# change column name\n",
    "hotel_joined = hotel_joined.rename(\n",
    "    columns={\"NAME_ENGL\": \"Country\"}\n",
    ")\n",
    "\n",
    "hotel_joined.head(n=2)"
   ]
  },
  {
   "cell_type": "markdown",
   "id": "404a1ae8",
   "metadata": {},
   "source": [
    "## 2. Exploratory analysis"
   ]
  },
  {
   "cell_type": "markdown",
   "id": "3c1f18c5",
   "metadata": {},
   "source": [
    "##  3. Words frequency analysis & Interactive word clouds"
   ]
  },
  {
   "cell_type": "markdown",
   "id": "1b538747",
   "metadata": {},
   "source": [
    "What are the most commonly used words in hotel reviews? Analyzing it can help hotel owners understand the most valuable services that reviewers care about. \n",
    "\n",
    "So let's start with the comprehensive data. After removing the meaningless pause words, the four most common terms are in order: room, staff, location, and breakfast, which represent the four fields consumers care about most about hotel accommodation."
   ]
  },
  {
   "cell_type": "markdown",
   "id": "1c12122f",
   "metadata": {},
   "source": [
    "### Lower and split reviews"
   ]
  },
  {
   "cell_type": "code",
   "execution_count": 542,
   "id": "2695465d",
   "metadata": {},
   "outputs": [],
   "source": [
    "hotel_review = hotel_joined.copy()\n",
    "\n",
    "hotel_review['Negative_Review'] = [review.lower().split() for review in hotel_review['Negative_Review']]\n",
    "hotel_review['Positive_Review'] = [review.lower().split() for review in hotel_review['Positive_Review']]"
   ]
  },
  {
   "cell_type": "markdown",
   "id": "3fb7f27f",
   "metadata": {},
   "source": [
    "### Remove stop words and punctuation"
   ]
  },
  {
   "cell_type": "markdown",
   "id": "d2b6e724",
   "metadata": {},
   "source": [
    "Load stop words and create a list."
   ]
  },
  {
   "cell_type": "code",
   "execution_count": 543,
   "id": "e363be20",
   "metadata": {},
   "outputs": [
    {
     "name": "stderr",
     "output_type": "stream",
     "text": [
      "[nltk_data] Downloading package stopwords to /Users/lexi/nltk_data...\n",
      "[nltk_data]   Package stopwords is already up-to-date!\n"
     ]
    }
   ],
   "source": [
    "import nltk\n",
    "# download stop words\n",
    "nltk.download('stopwords');\n",
    "\n",
    "#Get the list of common stop words\n",
    "stop_words = list(set(nltk.corpus.stopwords.words('english')))"
   ]
  },
  {
   "cell_type": "markdown",
   "id": "b5e81980",
   "metadata": {},
   "source": [
    "Load common punctuation and create a list."
   ]
  },
  {
   "cell_type": "code",
   "execution_count": 544,
   "id": "3ac6d426",
   "metadata": {},
   "outputs": [],
   "source": [
    "import string\n",
    "\n",
    "punctuation = list(string.punctuation)"
   ]
  },
  {
   "cell_type": "markdown",
   "id": "41f3ad8d",
   "metadata": {},
   "source": [
    "Remove stop words and punctuation from our reviews."
   ]
  },
  {
   "cell_type": "code",
   "execution_count": 545,
   "id": "001e748d",
   "metadata": {},
   "outputs": [],
   "source": [
    "# list to remove\n",
    "ignored = stop_words + punctuation\n",
    "\n",
    "# Remove from each review column\n",
    "hotel_review['Negative_Review'] = [[word for word in review if word not in ignored]\n",
    "              for review in hotel_review['Negative_Review']]\n",
    "hotel_review['Positive_Review'] = [[word for word in review if word not in ignored]\n",
    "              for review in hotel_review['Positive_Review']]"
   ]
  },
  {
   "cell_type": "markdown",
   "id": "0329cecc",
   "metadata": {},
   "source": [
    "### Count word frequencies first time"
   ]
  },
  {
   "cell_type": "markdown",
   "id": "496dce63",
   "metadata": {},
   "source": [
    "Create a new column containing both positive review and negative review."
   ]
  },
  {
   "cell_type": "code",
   "execution_count": 546,
   "id": "4fc2a159",
   "metadata": {},
   "outputs": [
    {
     "data": {
      "text/html": [
       "<div>\n",
       "<style scoped>\n",
       "    .dataframe tbody tr th:only-of-type {\n",
       "        vertical-align: middle;\n",
       "    }\n",
       "\n",
       "    .dataframe tbody tr th {\n",
       "        vertical-align: top;\n",
       "    }\n",
       "\n",
       "    .dataframe thead th {\n",
       "        text-align: right;\n",
       "    }\n",
       "</style>\n",
       "<table border=\"1\" class=\"dataframe\">\n",
       "  <thead>\n",
       "    <tr style=\"text-align: right;\">\n",
       "      <th></th>\n",
       "      <th>Hotel_Address</th>\n",
       "      <th>Additional_Number_of_Scoring</th>\n",
       "      <th>Review_Date</th>\n",
       "      <th>Average_Score</th>\n",
       "      <th>Hotel_Name</th>\n",
       "      <th>Reviewer_Nationality</th>\n",
       "      <th>Negative_Review</th>\n",
       "      <th>Review_Total_Negative_Word_Counts</th>\n",
       "      <th>Total_Number_of_Reviews</th>\n",
       "      <th>Positive_Review</th>\n",
       "      <th>Review_Total_Positive_Word_Counts</th>\n",
       "      <th>Total_Number_of_Reviews_Reviewer_Has_Given</th>\n",
       "      <th>Reviewer_Score</th>\n",
       "      <th>Tags</th>\n",
       "      <th>days_since_review</th>\n",
       "      <th>lat</th>\n",
       "      <th>lng</th>\n",
       "      <th>geometry</th>\n",
       "      <th>Country</th>\n",
       "      <th>Total_Review</th>\n",
       "    </tr>\n",
       "  </thead>\n",
       "  <tbody>\n",
       "    <tr>\n",
       "      <th>66</th>\n",
       "      <td>s Gravesandestraat 55 Oost 1092 AA Amsterdam ...</td>\n",
       "      <td>194</td>\n",
       "      <td>2016-12-29</td>\n",
       "      <td>7.7</td>\n",
       "      <td>Hotel Arena</td>\n",
       "      <td>United Kingdom</td>\n",
       "      <td>[asked, coffee, sugars, got, given, two, satch...</td>\n",
       "      <td>40</td>\n",
       "      <td>1403</td>\n",
       "      <td>[nice, open, room, bed, plenty, room, bath, ro...</td>\n",
       "      <td>28</td>\n",
       "      <td>7</td>\n",
       "      <td>9.2</td>\n",
       "      <td>[' Leisure trip ', ' Couple ', ' Large King Ro...</td>\n",
       "      <td>217 day</td>\n",
       "      <td>52.360576</td>\n",
       "      <td>4.915968</td>\n",
       "      <td>POINT (547243.088 6865586.634)</td>\n",
       "      <td>Netherlands</td>\n",
       "      <td>[would, nice, one, responsible, cleaning, room...</td>\n",
       "    </tr>\n",
       "    <tr>\n",
       "      <th>67</th>\n",
       "      <td>s Gravesandestraat 55 Oost 1092 AA Amsterdam ...</td>\n",
       "      <td>194</td>\n",
       "      <td>2016-12-28</td>\n",
       "      <td>7.7</td>\n",
       "      <td>Hotel Arena</td>\n",
       "      <td>South Africa</td>\n",
       "      <td>[room, cleaned, correctly, wine, champagne, gl...</td>\n",
       "      <td>30</td>\n",
       "      <td>1403</td>\n",
       "      <td>[begin, upgraded, made, wife, happy, room, spa...</td>\n",
       "      <td>92</td>\n",
       "      <td>6</td>\n",
       "      <td>7.5</td>\n",
       "      <td>[' Leisure trip ', ' Couple ', ' Duplex Double...</td>\n",
       "      <td>218 day</td>\n",
       "      <td>52.360576</td>\n",
       "      <td>4.915968</td>\n",
       "      <td>POINT (547243.088 6865586.634)</td>\n",
       "      <td>Netherlands</td>\n",
       "      <td>[first, impressions, dark, reception, made, us...</td>\n",
       "    </tr>\n",
       "  </tbody>\n",
       "</table>\n",
       "</div>"
      ],
      "text/plain": [
       "                                        Hotel_Address  \\\n",
       "66   s Gravesandestraat 55 Oost 1092 AA Amsterdam ...   \n",
       "67   s Gravesandestraat 55 Oost 1092 AA Amsterdam ...   \n",
       "\n",
       "    Additional_Number_of_Scoring Review_Date  Average_Score   Hotel_Name  \\\n",
       "66                           194  2016-12-29            7.7  Hotel Arena   \n",
       "67                           194  2016-12-28            7.7  Hotel Arena   \n",
       "\n",
       "   Reviewer_Nationality                                    Negative_Review  \\\n",
       "66      United Kingdom   [asked, coffee, sugars, got, given, two, satch...   \n",
       "67        South Africa   [room, cleaned, correctly, wine, champagne, gl...   \n",
       "\n",
       "    Review_Total_Negative_Word_Counts  Total_Number_of_Reviews  \\\n",
       "66                                 40                     1403   \n",
       "67                                 30                     1403   \n",
       "\n",
       "                                      Positive_Review  \\\n",
       "66  [nice, open, room, bed, plenty, room, bath, ro...   \n",
       "67  [begin, upgraded, made, wife, happy, room, spa...   \n",
       "\n",
       "    Review_Total_Positive_Word_Counts  \\\n",
       "66                                 28   \n",
       "67                                 92   \n",
       "\n",
       "    Total_Number_of_Reviews_Reviewer_Has_Given  Reviewer_Score  \\\n",
       "66                                           7             9.2   \n",
       "67                                           6             7.5   \n",
       "\n",
       "                                                 Tags days_since_review  \\\n",
       "66  [' Leisure trip ', ' Couple ', ' Large King Ro...           217 day   \n",
       "67  [' Leisure trip ', ' Couple ', ' Duplex Double...           218 day   \n",
       "\n",
       "          lat       lng                        geometry      Country  \\\n",
       "66  52.360576  4.915968  POINT (547243.088 6865586.634)  Netherlands   \n",
       "67  52.360576  4.915968  POINT (547243.088 6865586.634)  Netherlands   \n",
       "\n",
       "                                         Total_Review  \n",
       "66  [would, nice, one, responsible, cleaning, room...  \n",
       "67  [first, impressions, dark, reception, made, us...  "
      ]
     },
     "execution_count": 546,
     "metadata": {},
     "output_type": "execute_result"
    }
   ],
   "source": [
    "hotel_review['Total_Review'] = pd.concat([hotel_review['Negative_Review'],hotel_review['Positive_Review']], \n",
    "                                         ignore_index=True)\n",
    "\n",
    "hotel_review.head(n=2)"
   ]
  },
  {
   "cell_type": "markdown",
   "id": "21ccb52e",
   "metadata": {},
   "source": [
    "Define a helper function to calculate word frequencies from our data frame with other information."
   ]
  },
  {
   "cell_type": "code",
   "execution_count": 547,
   "id": "b99705b7",
   "metadata": {},
   "outputs": [],
   "source": [
    "def count_word(review_col, top=20):\n",
    "    \"\"\"\n",
    "    Given a column of all words for every rhotel, count word frequencies across all reviews.\n",
    "    \n",
    "    By default, this returns the top 20 words, but you can specify a different value for `top`.\n",
    "    \"\"\"\n",
    "    import itertools, collections\n",
    "    \n",
    "    # List of all words across hotels\n",
    "    all_words = list(itertools.chain(*review_col))\n",
    "\n",
    "    # Create counter\n",
    "    counter = collections.Counter(all_words)\n",
    "    \n",
    "    return pd.DataFrame(counter.most_common(top),\n",
    "                        columns=['words', 'count'])"
   ]
  },
  {
   "cell_type": "code",
   "execution_count": 548,
   "id": "bed831c7",
   "metadata": {
    "scrolled": true
   },
   "outputs": [
    {
     "data": {
      "text/html": [
       "<div>\n",
       "<style scoped>\n",
       "    .dataframe tbody tr th:only-of-type {\n",
       "        vertical-align: middle;\n",
       "    }\n",
       "\n",
       "    .dataframe tbody tr th {\n",
       "        vertical-align: top;\n",
       "    }\n",
       "\n",
       "    .dataframe thead th {\n",
       "        text-align: right;\n",
       "    }\n",
       "</style>\n",
       "<table border=\"1\" class=\"dataframe\">\n",
       "  <thead>\n",
       "    <tr style=\"text-align: right;\">\n",
       "      <th></th>\n",
       "      <th>words</th>\n",
       "      <th>count</th>\n",
       "    </tr>\n",
       "  </thead>\n",
       "  <tbody>\n",
       "    <tr>\n",
       "      <th>0</th>\n",
       "      <td>room</td>\n",
       "      <td>81858</td>\n",
       "    </tr>\n",
       "    <tr>\n",
       "      <th>1</th>\n",
       "      <td>staff</td>\n",
       "      <td>60017</td>\n",
       "    </tr>\n",
       "    <tr>\n",
       "      <th>2</th>\n",
       "      <td>location</td>\n",
       "      <td>52072</td>\n",
       "    </tr>\n",
       "    <tr>\n",
       "      <th>3</th>\n",
       "      <td>hotel</td>\n",
       "      <td>49687</td>\n",
       "    </tr>\n",
       "    <tr>\n",
       "      <th>4</th>\n",
       "      <td>breakfast</td>\n",
       "      <td>37343</td>\n",
       "    </tr>\n",
       "    <tr>\n",
       "      <th>5</th>\n",
       "      <td>good</td>\n",
       "      <td>34250</td>\n",
       "    </tr>\n",
       "    <tr>\n",
       "      <th>6</th>\n",
       "      <td>negative</td>\n",
       "      <td>33003</td>\n",
       "    </tr>\n",
       "    <tr>\n",
       "      <th>7</th>\n",
       "      <td>great</td>\n",
       "      <td>30074</td>\n",
       "    </tr>\n",
       "    <tr>\n",
       "      <th>8</th>\n",
       "      <td>friendly</td>\n",
       "      <td>22985</td>\n",
       "    </tr>\n",
       "    <tr>\n",
       "      <th>9</th>\n",
       "      <td>bed</td>\n",
       "      <td>21364</td>\n",
       "    </tr>\n",
       "    <tr>\n",
       "      <th>10</th>\n",
       "      <td>helpful</td>\n",
       "      <td>20890</td>\n",
       "    </tr>\n",
       "    <tr>\n",
       "      <th>11</th>\n",
       "      <td>nice</td>\n",
       "      <td>20414</td>\n",
       "    </tr>\n",
       "    <tr>\n",
       "      <th>12</th>\n",
       "      <td>rooms</td>\n",
       "      <td>19758</td>\n",
       "    </tr>\n",
       "    <tr>\n",
       "      <th>13</th>\n",
       "      <td>clean</td>\n",
       "      <td>19532</td>\n",
       "    </tr>\n",
       "    <tr>\n",
       "      <th>14</th>\n",
       "      <td>comfortable</td>\n",
       "      <td>17272</td>\n",
       "    </tr>\n",
       "    <tr>\n",
       "      <th>15</th>\n",
       "      <td>excellent</td>\n",
       "      <td>16847</td>\n",
       "    </tr>\n",
       "    <tr>\n",
       "      <th>16</th>\n",
       "      <td>small</td>\n",
       "      <td>15940</td>\n",
       "    </tr>\n",
       "    <tr>\n",
       "      <th>17</th>\n",
       "      <td>would</td>\n",
       "      <td>13129</td>\n",
       "    </tr>\n",
       "    <tr>\n",
       "      <th>18</th>\n",
       "      <td>stay</td>\n",
       "      <td>12758</td>\n",
       "    </tr>\n",
       "    <tr>\n",
       "      <th>19</th>\n",
       "      <td>nothing</td>\n",
       "      <td>12120</td>\n",
       "    </tr>\n",
       "  </tbody>\n",
       "</table>\n",
       "</div>"
      ],
      "text/plain": [
       "          words  count\n",
       "0          room  81858\n",
       "1         staff  60017\n",
       "2      location  52072\n",
       "3         hotel  49687\n",
       "4     breakfast  37343\n",
       "5          good  34250\n",
       "6      negative  33003\n",
       "7         great  30074\n",
       "8      friendly  22985\n",
       "9           bed  21364\n",
       "10      helpful  20890\n",
       "11         nice  20414\n",
       "12        rooms  19758\n",
       "13        clean  19532\n",
       "14  comfortable  17272\n",
       "15    excellent  16847\n",
       "16        small  15940\n",
       "17        would  13129\n",
       "18         stay  12758\n",
       "19      nothing  12120"
      ]
     },
     "execution_count": 548,
     "metadata": {},
     "output_type": "execute_result"
    }
   ],
   "source": [
    "counts_reviews = count_word(hotel_review['Total_Review'], top=20)\n",
    "counts_reviews"
   ]
  },
  {
   "cell_type": "markdown",
   "id": "2a548faa",
   "metadata": {},
   "source": [
    "### Remove words that are not helpful"
   ]
  },
  {
   "cell_type": "markdown",
   "id": "612563ed",
   "metadata": {},
   "source": [
    "Remove words that are not very helpful for analysis."
   ]
  },
  {
   "cell_type": "code",
   "execution_count": 549,
   "id": "32042e36",
   "metadata": {},
   "outputs": [],
   "source": [
    "neutral_words = [\"nothing\", \"hotel\", \"would\",\"could\",\"one\",\"bit\",\"little\",\"us\",\"get\",\"time\",\"really\",\"also\",\"even\"]\n",
    "hotel_review['Total_Review'] = [[word for word in review if word not in neutral_words]\n",
    "              for review in hotel_review['Total_Review']]"
   ]
  },
  {
   "cell_type": "markdown",
   "id": "dfaea4a3",
   "metadata": {},
   "source": [
    "### Count words frequency for the final cleaned reviews"
   ]
  },
  {
   "cell_type": "code",
   "execution_count": 550,
   "id": "54a419f4",
   "metadata": {},
   "outputs": [
    {
     "data": {
      "text/html": [
       "<div>\n",
       "<style scoped>\n",
       "    .dataframe tbody tr th:only-of-type {\n",
       "        vertical-align: middle;\n",
       "    }\n",
       "\n",
       "    .dataframe tbody tr th {\n",
       "        vertical-align: top;\n",
       "    }\n",
       "\n",
       "    .dataframe thead th {\n",
       "        text-align: right;\n",
       "    }\n",
       "</style>\n",
       "<table border=\"1\" class=\"dataframe\">\n",
       "  <thead>\n",
       "    <tr style=\"text-align: right;\">\n",
       "      <th></th>\n",
       "      <th>words</th>\n",
       "      <th>count</th>\n",
       "    </tr>\n",
       "  </thead>\n",
       "  <tbody>\n",
       "    <tr>\n",
       "      <th>0</th>\n",
       "      <td>room</td>\n",
       "      <td>81858</td>\n",
       "    </tr>\n",
       "    <tr>\n",
       "      <th>1</th>\n",
       "      <td>staff</td>\n",
       "      <td>60017</td>\n",
       "    </tr>\n",
       "    <tr>\n",
       "      <th>2</th>\n",
       "      <td>location</td>\n",
       "      <td>52072</td>\n",
       "    </tr>\n",
       "    <tr>\n",
       "      <th>3</th>\n",
       "      <td>breakfast</td>\n",
       "      <td>37343</td>\n",
       "    </tr>\n",
       "    <tr>\n",
       "      <th>4</th>\n",
       "      <td>good</td>\n",
       "      <td>34250</td>\n",
       "    </tr>\n",
       "    <tr>\n",
       "      <th>5</th>\n",
       "      <td>negative</td>\n",
       "      <td>33003</td>\n",
       "    </tr>\n",
       "    <tr>\n",
       "      <th>6</th>\n",
       "      <td>great</td>\n",
       "      <td>30074</td>\n",
       "    </tr>\n",
       "    <tr>\n",
       "      <th>7</th>\n",
       "      <td>friendly</td>\n",
       "      <td>22985</td>\n",
       "    </tr>\n",
       "    <tr>\n",
       "      <th>8</th>\n",
       "      <td>bed</td>\n",
       "      <td>21364</td>\n",
       "    </tr>\n",
       "    <tr>\n",
       "      <th>9</th>\n",
       "      <td>helpful</td>\n",
       "      <td>20890</td>\n",
       "    </tr>\n",
       "    <tr>\n",
       "      <th>10</th>\n",
       "      <td>nice</td>\n",
       "      <td>20414</td>\n",
       "    </tr>\n",
       "    <tr>\n",
       "      <th>11</th>\n",
       "      <td>rooms</td>\n",
       "      <td>19758</td>\n",
       "    </tr>\n",
       "    <tr>\n",
       "      <th>12</th>\n",
       "      <td>clean</td>\n",
       "      <td>19532</td>\n",
       "    </tr>\n",
       "    <tr>\n",
       "      <th>13</th>\n",
       "      <td>comfortable</td>\n",
       "      <td>17272</td>\n",
       "    </tr>\n",
       "    <tr>\n",
       "      <th>14</th>\n",
       "      <td>excellent</td>\n",
       "      <td>16847</td>\n",
       "    </tr>\n",
       "    <tr>\n",
       "      <th>15</th>\n",
       "      <td>small</td>\n",
       "      <td>15940</td>\n",
       "    </tr>\n",
       "    <tr>\n",
       "      <th>16</th>\n",
       "      <td>stay</td>\n",
       "      <td>12758</td>\n",
       "    </tr>\n",
       "    <tr>\n",
       "      <th>17</th>\n",
       "      <td>service</td>\n",
       "      <td>11693</td>\n",
       "    </tr>\n",
       "    <tr>\n",
       "      <th>18</th>\n",
       "      <td>bathroom</td>\n",
       "      <td>11202</td>\n",
       "    </tr>\n",
       "    <tr>\n",
       "      <th>19</th>\n",
       "      <td>bar</td>\n",
       "      <td>10172</td>\n",
       "    </tr>\n",
       "  </tbody>\n",
       "</table>\n",
       "</div>"
      ],
      "text/plain": [
       "          words  count\n",
       "0          room  81858\n",
       "1         staff  60017\n",
       "2      location  52072\n",
       "3     breakfast  37343\n",
       "4          good  34250\n",
       "5      negative  33003\n",
       "6         great  30074\n",
       "7      friendly  22985\n",
       "8           bed  21364\n",
       "9       helpful  20890\n",
       "10         nice  20414\n",
       "11        rooms  19758\n",
       "12        clean  19532\n",
       "13  comfortable  17272\n",
       "14    excellent  16847\n",
       "15        small  15940\n",
       "16         stay  12758\n",
       "17      service  11693\n",
       "18     bathroom  11202\n",
       "19          bar  10172"
      ]
     },
     "execution_count": 550,
     "metadata": {},
     "output_type": "execute_result"
    }
   ],
   "source": [
    "counts_reviews = count_word(hotel_review['Total_Review'], top=20)\n",
    "counts_reviews"
   ]
  },
  {
   "cell_type": "markdown",
   "id": "284a91ca",
   "metadata": {},
   "source": [
    "Plot the words frequency result."
   ]
  },
  {
   "cell_type": "code",
   "execution_count": 551,
   "id": "709632e9",
   "metadata": {},
   "outputs": [
    {
     "data": {
      "text/plain": [
       "'\\nfig, ax = plt.subplots(figsize=(8, 8))\\n\\nsns.barplot(\\n    y=\"words\",\\n    x=\"count\",\\n    data=counts_reviews.sort_values(by=\"count\", ascending=False),\\n    ax=ax,\\n    color=palette4[2],\\n    saturation=1.0,\\n)\\n\\nax.set_title(\"Common Words Found in Hotel Reviews (Without Stop Words)\", fontsize=16);\\n'"
      ]
     },
     "execution_count": 551,
     "metadata": {},
     "output_type": "execute_result"
    }
   ],
   "source": [
    "\"\"\"\n",
    "fig, ax = plt.subplots(figsize=(8, 8))\n",
    "\n",
    "sns.barplot(\n",
    "    y=\"words\",\n",
    "    x=\"count\",\n",
    "    data=counts_reviews.sort_values(by=\"count\", ascending=False),\n",
    "    ax=ax,\n",
    "    color=palette4[2],\n",
    "    saturation=1.0,\n",
    ")\n",
    "\n",
    "ax.set_title(\"Common Words Found in Hotel Reviews (Without Stop Words)\", fontsize=16);\n",
    "\"\"\""
   ]
  },
  {
   "cell_type": "markdown",
   "id": "2db2e7f6",
   "metadata": {},
   "source": [
    "### Define functions to plot word clouds from word frequency"
   ]
  },
  {
   "cell_type": "markdown",
   "id": "0ad6480a",
   "metadata": {},
   "source": [
    "However, the focus does vary with the country and its tourism characteristics. So an interactive word cloud is made by the country and the largest number of words to show. \n",
    "\n",
    "As the results show, people are most concerned about the location and staff services in the Netherlands, Italy, Spain, and Austria, and there are more positive words in the evaluation (good, great, friendly, Etc.). In the UK, people are more concerned about rooms conditions and staff services, and the frequency of 'negative' is higher in reviews. In France, people pay more attention to rooms and breakfast, and negative words (negative, small, Etc.) appear more frequently. \n",
    "\n",
    "What's more, each country has its unique characteristics. For example, reviewers in France pay more attention to the night experience and shower experience."
   ]
  },
  {
   "cell_type": "code",
   "execution_count": 552,
   "id": "68b5acac",
   "metadata": {},
   "outputs": [],
   "source": [
    "import multidict as multidict\n",
    "import numpy as np\n",
    "import os\n",
    "import re\n",
    "from PIL import Image\n",
    "from os import path\n",
    "from wordcloud import WordCloud\n",
    "import matplotlib.pyplot as plt\n",
    "import itertools, collections\n",
    "\n",
    "\n",
    "def getFrequencyDictForText(sentence): \n",
    "    \n",
    "    \"\"\"\n",
    "    Given a list of all words from all reviews, count word frequencies across all reviews, \n",
    "    return a dictionary of word and frequency.\n",
    "    \n",
    "    \"\"\"\n",
    "\n",
    "    # get frequency\n",
    "    fullTermsDict = multidict.MultiDict()\n",
    "    tmpDict = {}\n",
    "\n",
    "    # making dict for counting frequencies\n",
    "    for text in sentence.split(\" \"):\n",
    "        if re.match(\"a|the|an|the|to|in|for|of|or|by|with|is|on|that|be\", text):\n",
    "            continue\n",
    "        val = tmpDict.get(text, 0)\n",
    "        tmpDict[text.lower()] = val + 1\n",
    "    for key in tmpDict:\n",
    "        fullTermsDict.add(key, tmpDict[key])\n",
    "    return fullTermsDict\n",
    "\n",
    "\n",
    "def plot_cloud(Country, df=hotel_review, select_col='Country', text_col='Total_Review', Maximum=[20,50,100,150], title=\"Most used words in reviews by country\"):\n",
    "    \"\"\"\n",
    "    Given a dataframe, the column to interact with, the column with review text, \n",
    "    selected the country to analyze, maxmium word to display, title to show,\n",
    "    generate a word cloud.\n",
    "    \n",
    "    \"\"\"\n",
    "        \n",
    "    # select country \n",
    "    df_filtered = df.loc[df[select_col]==Country]\n",
    "    # put all review words into one string object.\n",
    "    all_words_list = list(itertools.chain(*df_filtered[text_col]))\n",
    "    all_words = ''\n",
    "    for word in all_words_list:\n",
    "        all_words += \" \" + word\n",
    "    \n",
    "    # load base pic\n",
    "    #alice_mask = np.array(Image.open(\"image/europe.png\"))\n",
    "\n",
    "    # set up word clooud\n",
    "    wc = WordCloud(background_color=\"white\", \n",
    "                   max_words=Maximum,\n",
    "                   width=1500,       \n",
    "                   height=960,          \n",
    "                   margin=10)\n",
    "    \n",
    "    # generate word cloud\n",
    "    wc.generate_from_frequencies(getFrequencyDictForText(all_words))\n",
    "    \n",
    "    # show\n",
    "    fig, ax = plt.subplots(figsize=(15, 10))\n",
    "    plt.imshow(wc, interpolation=\"bilinear\")\n",
    "    plt.axis(\"off\")\n",
    "    plt.title(title, fontsize=40,fontweight=\"bold\")\n",
    "    plt.figure()\n",
    "    "
   ]
  },
  {
   "cell_type": "markdown",
   "id": "3d7a4ede",
   "metadata": {},
   "source": [
    "### Implement interactivity"
   ]
  },
  {
   "cell_type": "markdown",
   "id": "4aad8096",
   "metadata": {},
   "source": [
    "Obtain a list of all countries."
   ]
  },
  {
   "cell_type": "code",
   "execution_count": 553,
   "id": "04ed0aea",
   "metadata": {},
   "outputs": [
    {
     "data": {
      "text/plain": [
       "['Netherlands', 'United Kingdom', 'France', 'Spain', 'Austria', 'Italy']"
      ]
     },
     "execution_count": 553,
     "metadata": {},
     "output_type": "execute_result"
    }
   ],
   "source": [
    "list1 = list(hotel_review['Country'].unique())\n",
    "\n",
    "# remove nan\n",
    "list1 = list1[0:3]+list1[4:7]\n",
    "\n",
    "list2 = [20,50,100,150]\n",
    "\n",
    "list1"
   ]
  },
  {
   "cell_type": "markdown",
   "id": "5c5440bb",
   "metadata": {},
   "source": [
    "The default panel import."
   ]
  },
  {
   "cell_type": "code",
   "execution_count": 554,
   "id": "c2011933",
   "metadata": {},
   "outputs": [],
   "source": [
    "# Load panel and enable interactive features\n",
    "import panel as pn\n",
    "pn.extension()"
   ]
  },
  {
   "cell_type": "markdown",
   "id": "1fbb039d",
   "metadata": {},
   "source": [
    "Interact Functions."
   ]
  },
  {
   "cell_type": "code",
   "execution_count": 555,
   "id": "26a6afeb",
   "metadata": {},
   "outputs": [
    {
     "data": {},
     "metadata": {},
     "output_type": "display_data"
    },
    {
     "data": {
      "application/vnd.holoviews_exec.v0+json": "",
      "text/html": [
       "<div id='13374'>\n",
       "\n",
       "\n",
       "\n",
       "\n",
       "\n",
       "  <div class=\"bk-root\" id=\"d205a26a-5fd9-42cf-8e06-4c6a9fe8db50\" data-root-id=\"13374\"></div>\n",
       "</div>\n",
       "<script type=\"application/javascript\">(function(root) {\n",
       "  function embed_document(root) {\n",
       "    var docs_json = {\"ab232cca-628e-4a9c-ae28-79ebce104133\":{\"defs\":[{\"extends\":null,\"module\":null,\"name\":\"ReactiveHTML1\",\"overrides\":[],\"properties\":[]},{\"extends\":null,\"module\":null,\"name\":\"FlexBox1\",\"overrides\":[],\"properties\":[{\"default\":\"flex-start\",\"kind\":null,\"name\":\"align_content\"},{\"default\":\"flex-start\",\"kind\":null,\"name\":\"align_items\"},{\"default\":\"row\",\"kind\":null,\"name\":\"flex_direction\"},{\"default\":\"wrap\",\"kind\":null,\"name\":\"flex_wrap\"},{\"default\":\"flex-start\",\"kind\":null,\"name\":\"justify_content\"}]},{\"extends\":null,\"module\":null,\"name\":\"TemplateActions1\",\"overrides\":[],\"properties\":[{\"default\":0,\"kind\":null,\"name\":\"open_modal\"},{\"default\":0,\"kind\":null,\"name\":\"close_modal\"}]},{\"extends\":null,\"module\":null,\"name\":\"MaterialTemplateActions1\",\"overrides\":[],\"properties\":[{\"default\":0,\"kind\":null,\"name\":\"open_modal\"},{\"default\":0,\"kind\":null,\"name\":\"close_modal\"}]}],\"roots\":{\"references\":[{\"attributes\":{\"children\":[{\"id\":\"13376\"},{\"id\":\"13377\"}],\"margin\":[0,0,0,0],\"name\":\"Column31651\"},\"id\":\"13375\",\"type\":\"Column\"},{\"attributes\":{\"end\":3,\"js_property_callbacks\":{\"change:value\":[{\"id\":\"13384\"}]},\"margin\":[0,10,5,10],\"show_value\":false,\"start\":0,\"tooltips\":false,\"value\":0},\"id\":\"13381\",\"type\":\"Slider\"},{\"attributes\":{\"margin\":[5,5,5,5],\"name\":\"interactive31630\"},\"id\":\"13383\",\"type\":\"panel.models.markup.HTML\"},{\"attributes\":{\"args\":{\"bidirectional\":false,\"properties\":{},\"source\":{\"id\":\"13381\"},\"target\":{\"id\":\"13380\"}},\"code\":\"try { \\n    var labels = ['Maximum: <b>20</b>', 'Maximum: <b>50</b>', 'Maximum: <b>100</b>', 'Maximum: <b>150</b>']\\n    target.text = labels[source.value]\\n     } catch(err) { console.log(err) }\",\"tags\":[140211370189200]},\"id\":\"13384\",\"type\":\"CustomJS\"},{\"attributes\":{\"children\":[{\"id\":\"13380\"},{\"id\":\"13381\"}],\"margin\":[0,0,0,0],\"name\":\"Column31642\"},\"id\":\"13379\",\"type\":\"Column\"},{\"attributes\":{\"css_classes\":[\"markdown\"],\"margin\":[5,5,5,5],\"name\":\"Markdown31649\",\"text\":\"&lt;h2&gt;MPG Explorer&lt;/h2&gt;\"},\"id\":\"13376\",\"type\":\"panel.models.markup.HTML\"},{\"attributes\":{\"margin\":[5,10,5,10],\"options\":[\"Netherlands\",\"United Kingdom\",\"France\",\"Spain\",\"Austria\",\"Italy\"],\"title\":\"Country\",\"value\":\"Netherlands\"},\"id\":\"13378\",\"type\":\"Select\"},{\"attributes\":{\"client_comm_id\":\"e219c9264015434b81d10fbfcd03998d\",\"comm_id\":\"9812dbd1e5ab4e7899dbc6a189690d7d\",\"plot_id\":\"13374\"},\"id\":\"13385\",\"type\":\"panel.models.comm_manager.CommManager\"},{\"attributes\":{\"children\":[{\"id\":\"13383\"}],\"margin\":[0,0,0,0],\"name\":\"Row31647\"},\"id\":\"13382\",\"type\":\"Row\"},{\"attributes\":{\"children\":[{\"id\":\"13378\"},{\"id\":\"13379\"}],\"margin\":[0,0,0,0],\"name\":\"Column31648\"},\"id\":\"13377\",\"type\":\"Column\"},{\"attributes\":{\"children\":[{\"id\":\"13375\"},{\"id\":\"13382\"}],\"margin\":[0,0,0,0],\"name\":\"Row31652\"},\"id\":\"13374\",\"type\":\"Row\"},{\"attributes\":{\"margin\":[5,0,0,10],\"name\":\"\",\"style\":{\"white-space\":\"nowrap\"},\"text\":\"Maximum: <b>20</b>\"},\"id\":\"13380\",\"type\":\"Div\"}],\"root_ids\":[\"13374\",\"13385\"]},\"title\":\"Bokeh Application\",\"version\":\"2.3.3\"}};\n",
       "    var render_items = [{\"docid\":\"ab232cca-628e-4a9c-ae28-79ebce104133\",\"root_ids\":[\"13374\"],\"roots\":{\"13374\":\"d205a26a-5fd9-42cf-8e06-4c6a9fe8db50\"}}];\n",
       "    root.Bokeh.embed.embed_items_notebook(docs_json, render_items);\n",
       "  }\n",
       "  if (root.Bokeh !== undefined && root.Bokeh.Panel !== undefined) {\n",
       "    embed_document(root);\n",
       "  } else {\n",
       "    var attempts = 0;\n",
       "    var timer = setInterval(function(root) {\n",
       "      if (root.Bokeh !== undefined && root.Bokeh.Panel !== undefined) {\n",
       "        clearInterval(timer);\n",
       "        embed_document(root);\n",
       "      } else if (document.readyState == \"complete\") {\n",
       "        attempts++;\n",
       "        if (attempts > 200) {\n",
       "          clearInterval(timer);\n",
       "          console.log(\"Bokeh: ERROR: Unable to run BokehJS code because BokehJS library is missing\");\n",
       "        }\n",
       "      }\n",
       "    }, 25, root)\n",
       "  }\n",
       "})(window);</script>"
      ],
      "text/plain": [
       "Row\n",
       "    [0] Column\n",
       "        [0] Markdown(str)\n",
       "        [1] Column\n",
       "            [0] Select(name='Country', options=['Netherlands', ...], value='Netherlands')\n",
       "            [1] DiscreteSlider(formatter='%d', name='Maximum', options=[20, 50, 100, 150], value=20)\n",
       "    [1] Row\n",
       "        [0] Str(None, name='interactive31630')"
      ]
     },
     "execution_count": 555,
     "metadata": {
      "application/vnd.holoviews_exec.v0+json": {
       "id": "13374"
      }
     },
     "output_type": "execute_result"
    },
    {
     "data": {
      "image/png": "[encoded data removed]",
      "text/plain": [
       "<Figure size 1080x720 with 1 Axes>"
      ]
     },
     "metadata": {},
     "output_type": "display_data"
    },
    {
     "data": {
      "text/plain": [
       "<Figure size 432x288 with 0 Axes>"
      ]
     },
     "metadata": {},
     "output_type": "display_data"
    }
   ],
   "source": [
    "# Auto-generate the layout\n",
    "layout = pn.interact(plot_cloud, Country=list1, Maximum=list2)\n",
    "\n",
    "# Create the dashboard with a Row and Column\n",
    "interact_dashboard = pn.Row(pn.Column('## MPG Explorer', layout[0]), layout[1])\n",
    "interact_dashboard"
   ]
  }
 ],
 "metadata": {
  "kernelspec": {
   "display_name": "Python 3 (ipykernel)",
   "language": "python",
   "name": "python3"
  },
  "language_info": {
   "codemirror_mode": {
    "name": "ipython",
    "version": 3
   },
   "file_extension": ".py",
   "mimetype": "text/x-python",
   "name": "python",
   "nbconvert_exporter": "python",
   "pygments_lexer": "ipython3",
   "version": "3.8.12"
  }
 },
 "nbformat": 4,
 "nbformat_minor": 5
}
